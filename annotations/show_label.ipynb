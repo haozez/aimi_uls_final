{
 "cells": [
  {
   "cell_type": "code",
   "execution_count": 6,
   "metadata": {},
   "outputs": [
    {
     "name": "stdout",
     "output_type": "stream",
     "text": [
      "/Users/haozezhu/Desktop/AI in Medical Imaging/Project/annotations\n"
     ]
    }
   ],
   "source": [
    "import nibabel as nib\n",
    "import numpy as np\n",
    "import matplotlib.pyplot as plt\n",
    "import os\n",
    "\n",
    "print(os.getcwd())\n",
    "\n",
    "def load_nii(file_path):\n",
    "    img = nib.load(file_path)\n",
    "    data = img.get_fdata()\n",
    "    return data"
   ]
  },
  {
   "cell_type": "code",
   "execution_count": 10,
   "metadata": {},
   "outputs": [
    {
     "name": "stdout",
     "output_type": "stream",
     "text": [
      "(256, 256, 128, 1)\n",
      "(array([109, 109, 109, ..., 130, 130, 131]), array([136, 137, 138, ..., 135, 135, 131]), array([69, 69, 68, ..., 67, 69, 67]), array([0, 0, 0, ..., 0, 0, 0]))\n"
     ]
    }
   ],
   "source": [
    "path = os.getcwd() + '/ULS23/novel_data/ULS23_Radboudumc_Bone/labels/bone_00002_lesion_01.nii'\n",
    "data = load_nii(path)\n",
    "print(data.shape)\n",
    "print(np.nonzero(data))"
   ]
  },
  {
   "cell_type": "code",
   "execution_count": 11,
   "metadata": {},
   "outputs": [
    {
     "name": "stdout",
     "output_type": "stream",
     "text": [
      "[[0. 0. 0. ... 0. 0. 0.]\n",
      " [0. 0. 0. ... 0. 0. 0.]\n",
      " [0. 0. 0. ... 0. 0. 0.]\n",
      " ...\n",
      " [0. 0. 0. ... 0. 0. 0.]\n",
      " [0. 0. 0. ... 0. 0. 0.]\n",
      " [0. 0. 0. ... 0. 0. 0.]]\n"
     ]
    },
    {
     "data": {
      "text/plain": [
       "<matplotlib.image.AxesImage at 0x12fd12790>"
      ]
     },
     "execution_count": 11,
     "metadata": {},
     "output_type": "execute_result"
    },
    {
     "data": {
      "image/png": "[encoded data removed]",
      "text/plain": [
       "<Figure size 640x480 with 1 Axes>"
      ]
     },
     "metadata": {},
     "output_type": "display_data"
    }
   ],
   "source": [
    "print(data[...,69,0])\n",
    "\n",
    "plt.imshow(data[...,69,0])"
   ]
  }
 ],
 "metadata": {
  "kernelspec": {
   "display_name": "aimi",
   "language": "python",
   "name": "python3"
  },
  "language_info": {
   "codemirror_mode": {
    "name": "ipython",
    "version": 3
   },
   "file_extension": ".py",
   "mimetype": "text/x-python",
   "name": "python",
   "nbconvert_exporter": "python",
   "pygments_lexer": "ipython3",
   "version": "3.11.7"
  }
 },
 "nbformat": 4,
 "nbformat_minor": 2
}
